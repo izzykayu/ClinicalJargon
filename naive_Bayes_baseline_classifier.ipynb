{
 "cells": [
  {
   "cell_type": "code",
   "execution_count": 1,
   "metadata": {},
   "outputs": [
    {
     "data": {
      "text/html": [
       "<div>\n",
       "<style scoped>\n",
       "    .dataframe tbody tr th:only-of-type {\n",
       "        vertical-align: middle;\n",
       "    }\n",
       "\n",
       "    .dataframe tbody tr th {\n",
       "        vertical-align: top;\n",
       "    }\n",
       "\n",
       "    .dataframe thead th {\n",
       "        text-align: right;\n",
       "    }\n",
       "</style>\n",
       "<table border=\"1\" class=\"dataframe\">\n",
       "  <thead>\n",
       "    <tr style=\"text-align: right;\">\n",
       "      <th></th>\n",
       "      <th>Unnamed: 0</th>\n",
       "      <th>text_data</th>\n",
       "      <th>uniqueID</th>\n",
       "      <th>.id</th>\n",
       "      <th>ABDOMINAL</th>\n",
       "      <th>ADVANCED.CAD</th>\n",
       "      <th>ALCOHOL.ABUSE</th>\n",
       "      <th>ASP.FOR.MI</th>\n",
       "      <th>CREATININE</th>\n",
       "      <th>DIETSUPP.2MOS</th>\n",
       "      <th>DRUG.ABUSE</th>\n",
       "      <th>ENGLISH</th>\n",
       "      <th>HBA1C</th>\n",
       "      <th>KETO.1YR</th>\n",
       "      <th>MAJOR.DIABETES</th>\n",
       "      <th>MAKES.DECISIONS</th>\n",
       "      <th>MI.6MOS</th>\n",
       "      <th>UNIQUENUMBER</th>\n",
       "    </tr>\n",
       "  </thead>\n",
       "  <tbody>\n",
       "    <tr>\n",
       "      <th>0</th>\n",
       "      <td>1</td>\n",
       "      <td>Record date: 2106-02-12 \\n \\nCampbell Orthoped...</td>\n",
       "      <td>1</td>\n",
       "      <td>TAGS</td>\n",
       "      <td>not met</td>\n",
       "      <td>met</td>\n",
       "      <td>not met</td>\n",
       "      <td>met</td>\n",
       "      <td>not met</td>\n",
       "      <td>met</td>\n",
       "      <td>not met</td>\n",
       "      <td>met</td>\n",
       "      <td>not met</td>\n",
       "      <td>not met</td>\n",
       "      <td>met</td>\n",
       "      <td>met</td>\n",
       "      <td>met</td>\n",
       "      <td>1</td>\n",
       "    </tr>\n",
       "    <tr>\n",
       "      <th>1</th>\n",
       "      <td>2</td>\n",
       "      <td>Record date: 2079-05-12 \\n \\n \\n \\n \\n \\nMERCY...</td>\n",
       "      <td>2</td>\n",
       "      <td>TAGS</td>\n",
       "      <td>not met</td>\n",
       "      <td>met</td>\n",
       "      <td>not met</td>\n",
       "      <td>met</td>\n",
       "      <td>not met</td>\n",
       "      <td>not met</td>\n",
       "      <td>not met</td>\n",
       "      <td>met</td>\n",
       "      <td>not met</td>\n",
       "      <td>not met</td>\n",
       "      <td>not met</td>\n",
       "      <td>met</td>\n",
       "      <td>not met</td>\n",
       "      <td>2</td>\n",
       "    </tr>\n",
       "    <tr>\n",
       "      <th>2</th>\n",
       "      <td>3</td>\n",
       "      <td>Record date: 2120-09-19 \\n \\nPersonal Data and...</td>\n",
       "      <td>3</td>\n",
       "      <td>TAGS</td>\n",
       "      <td>met</td>\n",
       "      <td>met</td>\n",
       "      <td>not met</td>\n",
       "      <td>met</td>\n",
       "      <td>not met</td>\n",
       "      <td>not met</td>\n",
       "      <td>not met</td>\n",
       "      <td>met</td>\n",
       "      <td>not met</td>\n",
       "      <td>not met</td>\n",
       "      <td>met</td>\n",
       "      <td>met</td>\n",
       "      <td>not met</td>\n",
       "      <td>3</td>\n",
       "    </tr>\n",
       "    <tr>\n",
       "      <th>3</th>\n",
       "      <td>4</td>\n",
       "      <td>Record date: 2067-11-24 \\n \\n                 ...</td>\n",
       "      <td>4</td>\n",
       "      <td>TAGS</td>\n",
       "      <td>not met</td>\n",
       "      <td>met</td>\n",
       "      <td>not met</td>\n",
       "      <td>met</td>\n",
       "      <td>not met</td>\n",
       "      <td>not met</td>\n",
       "      <td>not met</td>\n",
       "      <td>met</td>\n",
       "      <td>not met</td>\n",
       "      <td>not met</td>\n",
       "      <td>not met</td>\n",
       "      <td>met</td>\n",
       "      <td>not met</td>\n",
       "      <td>4</td>\n",
       "    </tr>\n",
       "    <tr>\n",
       "      <th>4</th>\n",
       "      <td>5</td>\n",
       "      <td>Record date: 2094-02-16 \\n \\nJENNIFER BOOKER \\...</td>\n",
       "      <td>5</td>\n",
       "      <td>TAGS</td>\n",
       "      <td>not met</td>\n",
       "      <td>met</td>\n",
       "      <td>not met</td>\n",
       "      <td>not met</td>\n",
       "      <td>not met</td>\n",
       "      <td>not met</td>\n",
       "      <td>not met</td>\n",
       "      <td>met</td>\n",
       "      <td>met</td>\n",
       "      <td>not met</td>\n",
       "      <td>met</td>\n",
       "      <td>met</td>\n",
       "      <td>met</td>\n",
       "      <td>5</td>\n",
       "    </tr>\n",
       "  </tbody>\n",
       "</table>\n",
       "</div>"
      ],
      "text/plain": [
       "   Unnamed: 0                                          text_data  uniqueID  \\\n",
       "0           1  Record date: 2106-02-12 \\n \\nCampbell Orthoped...         1   \n",
       "1           2  Record date: 2079-05-12 \\n \\n \\n \\n \\n \\nMERCY...         2   \n",
       "2           3  Record date: 2120-09-19 \\n \\nPersonal Data and...         3   \n",
       "3           4  Record date: 2067-11-24 \\n \\n                 ...         4   \n",
       "4           5  Record date: 2094-02-16 \\n \\nJENNIFER BOOKER \\...         5   \n",
       "\n",
       "    .id ABDOMINAL ADVANCED.CAD ALCOHOL.ABUSE ASP.FOR.MI CREATININE  \\\n",
       "0  TAGS   not met          met       not met        met    not met   \n",
       "1  TAGS   not met          met       not met        met    not met   \n",
       "2  TAGS       met          met       not met        met    not met   \n",
       "3  TAGS   not met          met       not met        met    not met   \n",
       "4  TAGS   not met          met       not met    not met    not met   \n",
       "\n",
       "  DIETSUPP.2MOS DRUG.ABUSE ENGLISH    HBA1C KETO.1YR MAJOR.DIABETES  \\\n",
       "0           met    not met     met  not met  not met            met   \n",
       "1       not met    not met     met  not met  not met        not met   \n",
       "2       not met    not met     met  not met  not met            met   \n",
       "3       not met    not met     met  not met  not met        not met   \n",
       "4       not met    not met     met      met  not met            met   \n",
       "\n",
       "  MAKES.DECISIONS  MI.6MOS  UNIQUENUMBER  \n",
       "0             met      met             1  \n",
       "1             met  not met             2  \n",
       "2             met  not met             3  \n",
       "3             met  not met             4  \n",
       "4             met      met             5  "
      ]
     },
     "execution_count": 1,
     "metadata": {},
     "output_type": "execute_result"
    }
   ],
   "source": [
    "import pandas as pd\n",
    "df_original =pd.read_csv('/Users/isabelmetzger/PycharmProjects/n2c2/train/dataframe_new_all.csv')\n",
    "df =df_original[['text_data', 'ASP.FOR.MI']]\n",
    "df_original.head()\n",
    "# Import the necessary modules"
   ]
  },
  {
   "cell_type": "code",
   "execution_count": 2,
   "metadata": {},
   "outputs": [],
   "source": [
    "# Create a series to store the labels: y\n",
    "df = df.rename(columns={'text_data': 'text','ASP.FOR.MI': 'label'})\n",
    "# Create a series to store the labels: y\n",
    "y = df.label"
   ]
  },
  {
   "cell_type": "code",
   "execution_count": 3,
   "metadata": {},
   "outputs": [
    {
     "name": "stdout",
     "output_type": "stream",
     "text": [
      "1        met\n",
      "2        met\n",
      "3        met\n",
      "4    not met\n",
      "5        met\n",
      "6        met\n",
      "7        met\n",
      "8        met\n",
      "9        met\n",
      "Name: label, dtype: object\n"
     ]
    },
    {
     "data": {
      "text/html": [
       "<div>\n",
       "<style scoped>\n",
       "    .dataframe tbody tr th:only-of-type {\n",
       "        vertical-align: middle;\n",
       "    }\n",
       "\n",
       "    .dataframe tbody tr th {\n",
       "        vertical-align: top;\n",
       "    }\n",
       "\n",
       "    .dataframe thead th {\n",
       "        text-align: right;\n",
       "    }\n",
       "</style>\n",
       "<table border=\"1\" class=\"dataframe\">\n",
       "  <thead>\n",
       "    <tr style=\"text-align: right;\">\n",
       "      <th></th>\n",
       "      <th>text</th>\n",
       "      <th>label</th>\n",
       "    </tr>\n",
       "  </thead>\n",
       "  <tbody>\n",
       "    <tr>\n",
       "      <th>0</th>\n",
       "      <td>Record date: 2106-02-12 \\n \\nCampbell Orthoped...</td>\n",
       "      <td>met</td>\n",
       "    </tr>\n",
       "    <tr>\n",
       "      <th>1</th>\n",
       "      <td>Record date: 2079-05-12 \\n \\n \\n \\n \\n \\nMERCY...</td>\n",
       "      <td>met</td>\n",
       "    </tr>\n",
       "    <tr>\n",
       "      <th>2</th>\n",
       "      <td>Record date: 2120-09-19 \\n \\nPersonal Data and...</td>\n",
       "      <td>met</td>\n",
       "    </tr>\n",
       "    <tr>\n",
       "      <th>3</th>\n",
       "      <td>Record date: 2067-11-24 \\n \\n                 ...</td>\n",
       "      <td>met</td>\n",
       "    </tr>\n",
       "    <tr>\n",
       "      <th>4</th>\n",
       "      <td>Record date: 2094-02-16 \\n \\nJENNIFER BOOKER \\...</td>\n",
       "      <td>not met</td>\n",
       "    </tr>\n",
       "  </tbody>\n",
       "</table>\n",
       "</div>"
      ],
      "text/plain": [
       "                                                text    label\n",
       "0  Record date: 2106-02-12 \\n \\nCampbell Orthoped...      met\n",
       "1  Record date: 2079-05-12 \\n \\n \\n \\n \\n \\nMERCY...      met\n",
       "2  Record date: 2120-09-19 \\n \\nPersonal Data and...      met\n",
       "3  Record date: 2067-11-24 \\n \\n                 ...      met\n",
       "4  Record date: 2094-02-16 \\n \\nJENNIFER BOOKER \\...  not met"
      ]
     },
     "execution_count": 3,
     "metadata": {},
     "output_type": "execute_result"
    }
   ],
   "source": [
    "print(y[1:10])\n",
    "df.head()"
   ]
  },
  {
   "cell_type": "code",
   "execution_count": 4,
   "metadata": {},
   "outputs": [],
   "source": [
    "# Import the necessary modules\n",
    "from sklearn.feature_extraction.text import CountVectorizer\n",
    "from sklearn.model_selection import train_test_split\n"
   ]
  },
  {
   "cell_type": "code",
   "execution_count": 5,
   "metadata": {},
   "outputs": [
    {
     "name": "stdout",
     "output_type": "stream",
     "text": [
      "['00', '000', '001', '002', '00212', '0028405', '00311', '0039', '004', '005']\n"
     ]
    }
   ],
   "source": [
    "# Create training and test sets\n",
    "X_train, X_test, y_train, y_test = train_test_split(df['text'], y, test_size=0.33, random_state=53)\n",
    "\n",
    "# Initialize a CountVectorizer object: count_vectorizer\n",
    "count_vectorizer = CountVectorizer(stop_words='english')\n",
    "\n",
    "# Transform the training data using only the 'text' column values: count_train\n",
    "count_train = count_vectorizer.fit_transform(X_train)\n",
    "\n",
    "# Transform the test data using only the 'text' column values: count_test\n",
    "count_test = count_vectorizer.transform(X_test)\n",
    "\n",
    "# Print the first 10 features of the count_vectorizer\n",
    "print(count_vectorizer.get_feature_names()[:10])"
   ]
  },
  {
   "cell_type": "code",
   "execution_count": 6,
   "metadata": {},
   "outputs": [
    {
     "name": "stdout",
     "output_type": "stream",
     "text": [
      "['00', '000', '001', '002', '00212', '0028405', '00311', '0039', '004', '005']\n",
      "[[0.         0.01171942 0.         ... 0.         0.         0.        ]\n",
      " [0.         0.028543   0.         ... 0.         0.         0.        ]\n",
      " [0.         0.         0.         ... 0.         0.         0.        ]\n",
      " [0.         0.         0.         ... 0.         0.         0.        ]\n",
      " [0.         0.         0.         ... 0.         0.         0.        ]]\n"
     ]
    }
   ],
   "source": [
    "### TfidfVectorizer for text classification\n",
    "\n",
    "# Import TfidfVectorizer\n",
    "from sklearn.feature_extraction.text import TfidfVectorizer\n",
    "\n",
    "# Initialize a TfidfVectorizer object: tfidf_vectorizer\n",
    "tfidf_vectorizer = TfidfVectorizer(stop_words='english', max_df=0.7)\n",
    "\n",
    "# Transform the training data: tfidf_train \n",
    "tfidf_train = tfidf_vectorizer.fit_transform(X_train)\n",
    "\n",
    "# Transform the test data: tfidf_test \n",
    "tfidf_test = tfidf_vectorizer.transform(X_test)\n",
    "\n",
    "# Print the first 10 features\n",
    "print(tfidf_vectorizer.get_feature_names()[:10])\n",
    "\n",
    "# Print the first 5 vectors of the tfidf training data\n",
    "print(tfidf_train.A[:5])\n"
   ]
  },
  {
   "cell_type": "code",
   "execution_count": 7,
   "metadata": {},
   "outputs": [
    {
     "name": "stdout",
     "output_type": "stream",
     "text": [
      "   00  000  001  002  00212  0028405  00311  0039  004  005   ...    zostavax  \\\n",
      "0   0    1    0    0      1        0      0     0    0    0   ...           0   \n",
      "1   0    1    0    0      0        0      0     0    0    0   ...           0   \n",
      "2   0    0    0    0      0        0      0     0    0    0   ...           0   \n",
      "3   0    0    0    0      0        0      0     0    0    0   ...           0   \n",
      "4   0    0    0    0      0        0      0     0    0    0   ...           0   \n",
      "\n",
      "   zoster  zosyn  zp289  zpack  zr  zt  zw011  zyan  zyrtec  \n",
      "0       0      0      0      0   0   0      0     0       0  \n",
      "1       0      0      0      0   0   0      0     0       0  \n",
      "2       0      0      0      0   0   0      0     0       0  \n",
      "3       0      0      0      0   0   0      0     0       0  \n",
      "4       0      0      0      0   0   0      0     0       0  \n",
      "\n",
      "[5 rows x 17387 columns]\n",
      "    00       000  001  002     00212  0028405  00311  0039  004  005   ...    \\\n",
      "0  0.0  0.011719  0.0  0.0  0.022708      0.0    0.0   0.0  0.0  0.0   ...     \n",
      "1  0.0  0.028543  0.0  0.0  0.000000      0.0    0.0   0.0  0.0  0.0   ...     \n",
      "2  0.0  0.000000  0.0  0.0  0.000000      0.0    0.0   0.0  0.0  0.0   ...     \n",
      "3  0.0  0.000000  0.0  0.0  0.000000      0.0    0.0   0.0  0.0  0.0   ...     \n",
      "4  0.0  0.000000  0.0  0.0  0.000000      0.0    0.0   0.0  0.0  0.0   ...     \n",
      "\n",
      "   zostavax  zoster  zosyn  zp289  zpack   zr   zt  zw011  zyan  zyrtec  \n",
      "0       0.0     0.0    0.0    0.0    0.0  0.0  0.0    0.0   0.0     0.0  \n",
      "1       0.0     0.0    0.0    0.0    0.0  0.0  0.0    0.0   0.0     0.0  \n",
      "2       0.0     0.0    0.0    0.0    0.0  0.0  0.0    0.0   0.0     0.0  \n",
      "3       0.0     0.0    0.0    0.0    0.0  0.0  0.0    0.0   0.0     0.0  \n",
      "4       0.0     0.0    0.0    0.0    0.0  0.0  0.0    0.0   0.0     0.0  \n",
      "\n",
      "[5 rows x 17271 columns]\n",
      "{'hospital', 'ago', 'visit', 'illness', '10', 'ekg', '15', 'past', 'clear', 'did', 'follow', '50', 's1', '16', 'present', 'acute', 'home', 'months', 'patient', 'skin', 'time', 'soft', 'day', 'pressure', 'mg', 'dr', 'systems', 'problems', 'mild', 'edema', 'plan', 'disease', 'lives', 'status', 'symptoms', 'rhythm', 'blood', '40', '25', 'family', 'medical', '60', 'negative', 'stable', 'heart', 'hypertension', '90', 'history', 'rate', 'record', 'chest', 'md', 'bp', '100', 'weeks', '20', '12', 'left', 'abdomen', 'presents', 'today', 'year', 'normal', '11', 'weight', 'examination', 'cardiac', 'aspirin', 's2', 'denies', 'date', 'allergies', 'low', 'changes', '30', 'change', 'extremities', 'general', 'pt', 'pain', 'week', 'exam', 'medications', 'note', 'lower', 'good', 'care', 'days', 'qd', 'does', 'right', 'non', 'assessment', '70', 'diabetes', 'htn', '80', 'heent', 'elevated', 'social', 'recent', 'given', 'prior', 'bid', 'seen', 'review', 'old', 'breath', 'noted', 'neck', 'physical', 'pulse', 'regular', 'continue', 'lungs', 'po'}\n",
      "False\n"
     ]
    }
   ],
   "source": [
    "### Inspecting the vectors\n",
    "\n",
    "# Create the CountVectorizer DataFrame: count_df\n",
    "count_df = pd.DataFrame(count_train.A, columns=count_vectorizer.get_feature_names())\n",
    "\n",
    "# Create the TfidfVectorizer DataFrame: tfidf_df\n",
    "tfidf_df = pd.DataFrame(tfidf_train.A, columns=tfidf_vectorizer.get_feature_names())\n",
    "\n",
    "# Print the head of count_df\n",
    "print(count_df.head())\n",
    "\n",
    "# Print the head of tfidf_df\n",
    "print(tfidf_df.head())\n",
    "\n",
    "# Calculate the difference in columns: difference\n",
    "difference = set(count_df.columns) - set(tfidf_df.columns)\n",
    "print(difference)\n",
    "\n",
    "# Check whether the DataFrames are equal\n",
    "print(count_df.equals(tfidf_df))\n"
   ]
  },
  {
   "cell_type": "markdown",
   "metadata": {},
   "source": [
    "Training and testing with Count Model and Naive Bayes"
   ]
  },
  {
   "cell_type": "code",
   "execution_count": 9,
   "metadata": {
    "scrolled": true
   },
   "outputs": [
    {
     "name": "stdout",
     "output_type": "stream",
     "text": [
      "\n",
      "Accuracy Score for MultinomialNB:\n",
      "\n",
      "0.7313432835820896\n",
      "\n",
      "Confusion Matrix:\n",
      " [[49  0]\n",
      " [18  0]]\n"
     ]
    }
   ],
   "source": [
    "# Import the necessary modules\n",
    "from sklearn.naive_bayes import MultinomialNB\n",
    "from sklearn import metrics\n",
    "\n",
    "# Instantiate a Multinomial Naive Bayes classifier: nb_classifier\n",
    "nb_classifier = MultinomialNB()\n",
    "\n",
    "# Fit the classifier to the training data\n",
    "nb_classifier.fit(count_train, y_train)\n",
    "\n",
    "# Create the predicted tags: pred\n",
    "pred = nb_classifier.predict(count_test)\n",
    "\n",
    "# Calculate the accuracy score: score\n",
    "score = metrics.accuracy_score(y_test, pred)\n",
    "print('\\nAccuracy Score for MultinomialNB:\\n')\n",
    "print(score)\n",
    "\n",
    "# Calculate the confusion matrix: cm\n",
    "cm = metrics.confusion_matrix(y_test, pred, labels=['met', 'not met'])\n",
    "print('\\nConfusion Matrix:\\n', cm)\n"
   ]
  },
  {
   "cell_type": "markdown",
   "metadata": {},
   "source": [
    "Now with tf_idf "
   ]
  },
  {
   "cell_type": "code",
   "execution_count": 10,
   "metadata": {},
   "outputs": [
    {
     "name": "stdout",
     "output_type": "stream",
     "text": [
      "0.7313432835820896\n",
      "\n",
      "Confusion Matrix:\n",
      " [[49  0]\n",
      " [18  0]]\n"
     ]
    }
   ],
   "source": [
    "# Create a Multinomial Naive Bayes classifier: nb_classifier\n",
    "nb_classifier = MultinomialNB()\n",
    "\n",
    "# Fit the classifier to the training data\n",
    "nb_classifier.fit(tfidf_train, y_train)\n",
    "\n",
    "# Create the predicted tags: pred\n",
    "pred = nb_classifier.predict(tfidf_test)\n",
    "\n",
    "# Calculate the accuracy score: score\n",
    "score = metrics.accuracy_score(y_test, pred)\n",
    "print(score)\n",
    "\n",
    "# Calculate the confusion matrix: cm\n",
    "cm = metrics.confusion_matrix(y_test, pred, labels=['met', 'not met'])\n",
    "print('\\nConfusion Matrix:\\n', cm)\n",
    "\n"
   ]
  },
  {
   "cell_type": "code",
   "execution_count": 11,
   "metadata": {},
   "outputs": [
    {
     "name": "stdout",
     "output_type": "stream",
     "text": [
      "Alpha:  0.0\n",
      "Score:  0.7313432835820896\n",
      "\n",
      "Alpha:  0.1\n",
      "Score:  0.7313432835820896\n",
      "\n",
      "Alpha:  0.2\n",
      "Score:  0.7313432835820896\n",
      "\n",
      "Alpha:  0.30000000000000004\n",
      "Score:  0.7313432835820896\n",
      "\n",
      "Alpha:  0.4\n",
      "Score:  0.7313432835820896\n",
      "\n",
      "Alpha:  0.5\n",
      "Score:  0.7313432835820896\n",
      "\n",
      "Alpha:  0.6000000000000001\n",
      "Score:  0.7313432835820896\n",
      "\n",
      "Alpha:  0.7000000000000001\n",
      "Score:  0.7313432835820896\n",
      "\n",
      "Alpha:  0.8\n",
      "Score:  0.7313432835820896\n",
      "\n",
      "Alpha:  0.9\n",
      "Score:  0.7313432835820896\n",
      "\n"
     ]
    },
    {
     "name": "stderr",
     "output_type": "stream",
     "text": [
      "/Users/isabelmetzger/anaconda3/lib/python3.6/site-packages/sklearn/naive_bayes.py:472: UserWarning: alpha too small will result in numeric errors, setting alpha = 1.0e-10\n",
      "  'setting alpha = %.1e' % _ALPHA_MIN)\n"
     ]
    }
   ],
   "source": [
    "import numpy as np\n",
    "# Create the list of alphas: alphas\n",
    "alphas = np.arange(0, 1, .1)\n",
    "\n",
    "# Define train_and_predict()\n",
    "def train_and_predict(alpha):\n",
    "    # Instantiate the classifier: nb_classifier\n",
    "    nb_classifier = MultinomialNB(alpha=alpha)\n",
    "    # Fit to the training data\n",
    "    nb_classifier.fit(tfidf_train, y_train)\n",
    "    # Predict the labels: pred\n",
    "    pred = nb_classifier.predict(tfidf_test)\n",
    "    # Compute accuracy: score\n",
    "    score = metrics.accuracy_score(y_test, pred)\n",
    "    return score\n",
    "\n",
    "# Iterate over the alphas and print the corresponding score\n",
    "for alpha in alphas:\n",
    "    print('Alpha: ', alpha)\n",
    "    print('Score: ', train_and_predict(alpha))\n",
    "    print()"
   ]
  },
  {
   "cell_type": "markdown",
   "metadata": {},
   "source": [
    "Inspecting model\n"
   ]
  },
  {
   "cell_type": "code",
   "execution_count": 12,
   "metadata": {},
   "outputs": [
    {
     "name": "stdout",
     "output_type": "stream",
     "text": [
      "met [(-9.781261749912675, '001'), (-9.781261749912675, '002'), (-9.781261749912675, '00212'), (-9.781261749912675, '0028405'), (-9.781261749912675, '00311'), (-9.781261749912675, '0039'), (-9.781261749912675, '004'), (-9.781261749912675, '005'), (-9.781261749912675, '00664'), (-9.781261749912675, '007'), (-9.781261749912675, '009'), (-9.781261749912675, '00933'), (-9.781261749912675, '00am'), (-9.781261749912675, '0114243'), (-9.781261749912675, '012'), (-9.781261749912675, '0138'), (-9.781261749912675, '0152809'), (-9.781261749912675, '015285'), (-9.781261749912675, '018'), (-9.781261749912675, '0189233')]\n",
      "not met [(-9.39300419922418, '03'), (-9.38859786232575, 'dialysis'), (-9.385964173696513, '22'), (-9.374609429424378, '02'), (-9.365601918341458, 'surgery'), (-9.359948992565768, '2115'), (-9.358390072923077, 'heel'), (-9.35592940919329, 'woman'), (-9.34829213000211, '08'), (-9.347176200135948, 'mca'), (-9.33880628198542, 'insulin'), (-9.337154510144561, 'reviewed'), (-9.305943794051611, 'graft'), (-9.289685097503522, 'stroke'), (-9.247837442713964, 'renal'), (-9.237775542884188, '2072'), (-9.22626983845666, 'resident'), (-9.223408106692798, '06'), (-9.088702479008237, 'foot'), (-8.935093831609759, 'tablet')]\n"
     ]
    }
   ],
   "source": [
    "# Get the class labels: class_labels\n",
    "class_labels = nb_classifier.classes_\n",
    "\n",
    "# Extract the features: feature_names\n",
    "feature_names = tfidf_vectorizer.get_feature_names()\n",
    "\n",
    "# Zip the feature names together with the coefficient array and sort by weights: feat_with_weights\n",
    "feat_with_weights = sorted(zip(nb_classifier.coef_[0], feature_names))\n",
    "\n",
    "# Print the first class label and the top 20 feat_with_weights entries\n",
    "print(class_labels[0], feat_with_weights[:20])\n",
    "\n",
    "# Print the second class label and the bottom 20 feat_with_weights entries\n",
    "print(class_labels[1], feat_with_weights[-20:])\n"
   ]
  },
  {
   "cell_type": "code",
   "execution_count": null,
   "metadata": {},
   "outputs": [],
   "source": []
  },
  {
   "cell_type": "code",
   "execution_count": null,
   "metadata": {},
   "outputs": [],
   "source": []
  }
 ],
 "metadata": {
  "kernelspec": {
   "display_name": "Python 3",
   "language": "python",
   "name": "python3"
  },
  "language_info": {
   "codemirror_mode": {
    "name": "ipython",
    "version": 3
   },
   "file_extension": ".py",
   "mimetype": "text/x-python",
   "name": "python",
   "nbconvert_exporter": "python",
   "pygments_lexer": "ipython3",
   "version": "3.6.4"
  }
 },
 "nbformat": 4,
 "nbformat_minor": 2
}
